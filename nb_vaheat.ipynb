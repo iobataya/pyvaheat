{
 "cells": [
  {
   "cell_type": "code",
   "execution_count": 1,
   "id": "59efddf8",
   "metadata": {},
   "outputs": [],
   "source": [
    "from pyvaheat import Vaheat"
   ]
  },
  {
   "cell_type": "code",
   "execution_count": 2,
   "id": "42558f49",
   "metadata": {},
   "outputs": [],
   "source": [
    "vh = Vaheat()"
   ]
  },
  {
   "cell_type": "code",
   "execution_count": 3,
   "id": "37541a42",
   "metadata": {},
   "outputs": [
    {
     "data": {
      "text/plain": [
       "True"
      ]
     },
     "execution_count": 3,
     "metadata": {},
     "output_type": "execute_result"
    }
   ],
   "source": [
    "vh.connect()"
   ]
  },
  {
   "cell_type": "code",
   "execution_count": 4,
   "id": "84c913eb",
   "metadata": {},
   "outputs": [
    {
     "data": {
      "text/plain": [
       "{'serial_number': 'VA-SR-0094-1',\n",
       " 'version': 'v1.2.3 (Jul 27 2023 15:57:44)',\n",
       " 'setpoint_auto': 40.0,\n",
       " 'power_shock': 20.0,\n",
       " 'power_direct': 100.0,\n",
       " 'duration_shock': 1.0}"
      ]
     },
     "execution_count": 4,
     "metadata": {},
     "output_type": "execute_result"
    }
   ],
   "source": [
    "vh.get_info()"
   ]
  },
  {
   "cell_type": "code",
   "execution_count": 5,
   "id": "7a87080c",
   "metadata": {},
   "outputs": [
    {
     "data": {
      "text/plain": [
       "{'mode': 'AUTO',\n",
       " 'keylock_active': False,\n",
       " 'heating_active': False,\n",
       " 'setpoint': 40.0,\n",
       " 'setpoint_unit': '^C',\n",
       " 'temperature': 26.6,\n",
       " 'alarm': 'NO_ALARM',\n",
       " 'profile_number': -1,\n",
       " 'step': -1}"
      ]
     },
     "execution_count": 5,
     "metadata": {},
     "output_type": "execute_result"
    }
   ],
   "source": [
    "vh.get_status()"
   ]
  },
  {
   "cell_type": "code",
   "execution_count": 6,
   "id": "e97a05b4",
   "metadata": {},
   "outputs": [
    {
     "data": {
      "text/plain": [
       "True"
      ]
     },
     "execution_count": 6,
     "metadata": {},
     "output_type": "execute_result"
    }
   ],
   "source": [
    "# Set conf as dict\n",
    "conf = {\"temperature\":50, \"mode\":\"AUTO\"}\n",
    "vh.start_heating(conf)"
   ]
  },
  {
   "cell_type": "code",
   "execution_count": 7,
   "id": "1c7f7bda",
   "metadata": {},
   "outputs": [
    {
     "data": {
      "text/plain": [
       "True"
      ]
     },
     "execution_count": 7,
     "metadata": {},
     "output_type": "execute_result"
    }
   ],
   "source": [
    "vh.stop_heating()"
   ]
  },
  {
   "cell_type": "code",
   "execution_count": 8,
   "id": "68b53469",
   "metadata": {},
   "outputs": [],
   "source": [
    "vh.disconnect()"
   ]
  },
  {
   "cell_type": "code",
   "execution_count": null,
   "id": "f281348c",
   "metadata": {},
   "outputs": [],
   "source": []
  }
 ],
 "metadata": {
  "kernelspec": {
   "display_name": "Python 3 (ipykernel)",
   "language": "python",
   "name": "python3"
  },
  "language_info": {
   "codemirror_mode": {
    "name": "ipython",
    "version": 3
   },
   "file_extension": ".py",
   "mimetype": "text/x-python",
   "name": "python",
   "nbconvert_exporter": "python",
   "pygments_lexer": "ipython3",
   "version": "3.11.5"
  }
 },
 "nbformat": 4,
 "nbformat_minor": 5
}
